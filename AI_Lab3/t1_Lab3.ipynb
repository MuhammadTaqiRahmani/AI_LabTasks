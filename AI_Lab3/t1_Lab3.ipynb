{
 "cells": [
  {
   "cell_type": "code",
   "execution_count": 14,
   "id": "01c10bf5-c7b5-4f87-84be-cef9e1bd97e6",
   "metadata": {},
   "outputs": [],
   "source": [
    "import pandas as pd\n",
    "import numpy as np\n",
    "from sklearn.neighbors import KNeighborsClassifier\n",
    "from sklearn.preprocessing import LabelEncoder"
   ]
  },
  {
   "cell_type": "code",
   "execution_count": 15,
   "id": "ecbdfb0f-e23a-48ec-b959-8457b64e585a",
   "metadata": {},
   "outputs": [],
   "source": [
    "def csv_reader():\n",
    "    data = pd.read_excel('weather.xlsx')\n",
    "    df = pd.DataFrame(data)\n",
    "    return df"
   ]
  },
  {
   "cell_type": "code",
   "execution_count": 16,
   "id": "771ae56e-8e31-40c6-99bf-a5ffbfcffa90",
   "metadata": {},
   "outputs": [],
   "source": [
    "def predict_play(df):\n",
    "    this_weather = LabelEncoder()\n",
    "    this_temp = LabelEncoder()\n",
    "    this_play = LabelEncoder()\n",
    "\n",
    "    df['Weather'] = this_weather.fit_transform(df['Weather'])\n",
    "    df['Temperature'] = this_temp.fit_transform(df['Temperature'])\n",
    "    df['Play'] = this_play.fit_transform(df['Play'])\n",
    "\n",
    "    x_comp_feature = df[['Weather', 'Temperature']].values\n",
    "    y_comp_result = df['Play'].values\n",
    "\n",
    "    k = 3\n",
    "    knn = KNeighborsClassifier(n_neighbors=k)\n",
    "    knn.fit(x_comp_feature, y_comp_result)\n",
    "\n",
    "    test_weather = this_weather.transform(['Overcast'])[0]\n",
    "    test_temp = this_temp.transform(['Mild'])[0]\n",
    "    test_data = np.array([[test_weather, test_temp]])\n",
    "\n",
    "    prediction = knn.predict(test_data)\n",
    "    prediction_label = this_play.inverse_transform(prediction)\n",
    "\n",
    "    return prediction_label[0]\n"
   ]
  },
  {
   "cell_type": "code",
   "execution_count": 17,
   "id": "96acd01c-322e-48ab-a44a-30e5934eb96c",
   "metadata": {},
   "outputs": [],
   "source": [
    "def main():\n",
    "    df = csv_reader()\n",
    "    result = predict_play(df)\n",
    "    if result == \"Yes\":\n",
    "        print(\"Result: \", result)\n",
    "        print(\"Players can play when weather is overcast and temperature is mild\")\n",
    "    else:\n",
    "        print(\"Result: \",result)\n",
    "        print(\"Nope, Players can not play when weather is overcast and temperature is mild\")"
   ]
  },
  {
   "cell_type": "code",
   "execution_count": 18,
   "id": "5e4e8594-a54b-449a-80d6-32f04ed1e4ee",
   "metadata": {},
   "outputs": [
    {
     "name": "stdout",
     "output_type": "stream",
     "text": [
      "Result:  Yes\n",
      "Players can play when weather is overcast and temperature is mild\n"
     ]
    }
   ],
   "source": [
    "if __name__ == \"__main__\":\n",
    "    main()"
   ]
  },
  {
   "cell_type": "code",
   "execution_count": null,
   "id": "6aa7bdef-a525-4d16-8198-8c6b2e8012e5",
   "metadata": {},
   "outputs": [],
   "source": []
  }
 ],
 "metadata": {
  "kernelspec": {
   "display_name": "Python 3 (ipykernel)",
   "language": "python",
   "name": "python3"
  },
  "language_info": {
   "codemirror_mode": {
    "name": "ipython",
    "version": 3
   },
   "file_extension": ".py",
   "mimetype": "text/x-python",
   "name": "python",
   "nbconvert_exporter": "python",
   "pygments_lexer": "ipython3",
   "version": "3.12.0"
  }
 },
 "nbformat": 4,
 "nbformat_minor": 5
}
