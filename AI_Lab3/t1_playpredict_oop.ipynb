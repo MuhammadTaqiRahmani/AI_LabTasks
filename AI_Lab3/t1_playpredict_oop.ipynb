{
 "cells": [
  {
   "cell_type": "code",
   "execution_count": 107,
   "id": "b158d3ca-dd88-471c-83ca-80494617cdc0",
   "metadata": {},
   "outputs": [],
   "source": [
    "import pandas as pd\n",
    "import numpy as np\n",
    "from sklearn.neighbors import KNeighborsClassifier\n",
    "from sklearn.preprocessing import LabelEncoder"
   ]
  },
  {
   "cell_type": "code",
   "execution_count": 108,
   "id": "9714cc6c-fba3-48f2-a0fd-efb5801f7a9b",
   "metadata": {},
   "outputs": [],
   "source": [
    "class PlayPredictor:\n",
    "    def __init__(self, excel_file, k):\n",
    "        self.excel_file = excel_file\n",
    "        self.k = k\n",
    "        self.this_weather = LabelEncoder()\n",
    "        self.this_temp = LabelEncoder()\n",
    "        self.this_play = LabelEncoder()\n",
    "\n",
    "    def excel_reader(self):\n",
    "        self.data = pd.read_excel('weather.xlsx')\n",
    "        self.df = pd.DataFrame(self.data)\n",
    "        return self.df\n",
    "\n",
    "    def encode_processes(self):\n",
    "        self.df['Weather'] = self.this_weather.fit_transform(self.df['Weather'])\n",
    "        self.df['Temperature'] = self.this_temp.fit_transform(self.df['Temperature'])\n",
    "        self.df['Play'] = self.this_play.fit_transform(self.df['Play'])\n",
    "\n",
    "        x_feature = self.df[['Weather', 'Temperature']].values\n",
    "        y_result = self.df['Play'].values\n",
    "\n",
    "        return x_feature, y_result\n",
    "        \n",
    "    def application_of_knn_algorithm(self, feature, result):\n",
    "        knn = KNeighborsClassifier(n_neighbors=self.k)\n",
    "        knn.fit(feature, result)\n",
    "        return knn\n",
    "\n",
    "    def train_model(self):\n",
    "        test_weather = self.this_weather.transform(['Overcast'])[0]\n",
    "        test_temperature = self.this_temp.transform(['Mild'])[0]\n",
    "        test_data = np.array([[test_weather, test_temperature]])\n",
    "        return test_data\n",
    "\n",
    "    def predict_play(self, test_data, knn):\n",
    "        prediction = knn.predict(test_data)\n",
    "        prediction_label = self.this_play.inverse_transform(prediction)\n",
    "        return prediction_label[0]"
   ]
  },
  {
   "cell_type": "code",
   "execution_count": 109,
   "id": "bd3b93b7-3459-42b5-8992-c1d2565c544b",
   "metadata": {},
   "outputs": [],
   "source": [
    "def main():\n",
    "    predictor = PlayPredictor('weather.xlsx',3)\n",
    "    df = predictor.excel_reader()\n",
    "    feature, result = predictor.encode_processes()\n",
    "\n",
    "    knn_model = predictor.application_of_knn_algorithm(feature, result)\n",
    "    test_data = predictor.train_model()\n",
    "    result = predictor.predict_play(test_data, knn_model)\n",
    "    if result == \"Yes\":\n",
    "        print(\"Result: \", result)\n",
    "        print(\"Players can play when weather is overcast and temperature is mild\")\n",
    "    else:\n",
    "        print(\"Result: \",result)\n",
    "        print(\"Nope, Players can not play when weather is overcast and temperature is mild\")"
   ]
  },
  {
   "cell_type": "code",
   "execution_count": 110,
   "id": "28bd9bc5-b7da-4e27-a46e-643b6eb052c3",
   "metadata": {},
   "outputs": [
    {
     "name": "stdout",
     "output_type": "stream",
     "text": [
      "Result:  Yes\n",
      "Players can play when weather is overcast and temperature is mild\n"
     ]
    }
   ],
   "source": [
    "if __name__ == \"__main__\":\n",
    "    main()"
   ]
  },
  {
   "cell_type": "code",
   "execution_count": null,
   "id": "bc53e836-40df-4939-b9b1-e4c9b7609181",
   "metadata": {},
   "outputs": [],
   "source": []
  }
 ],
 "metadata": {
  "kernelspec": {
   "display_name": "Python 3 (ipykernel)",
   "language": "python",
   "name": "python3"
  },
  "language_info": {
   "codemirror_mode": {
    "name": "ipython",
    "version": 3
   },
   "file_extension": ".py",
   "mimetype": "text/x-python",
   "name": "python",
   "nbconvert_exporter": "python",
   "pygments_lexer": "ipython3",
   "version": "3.12.0"
  }
 },
 "nbformat": 4,
 "nbformat_minor": 5
}
