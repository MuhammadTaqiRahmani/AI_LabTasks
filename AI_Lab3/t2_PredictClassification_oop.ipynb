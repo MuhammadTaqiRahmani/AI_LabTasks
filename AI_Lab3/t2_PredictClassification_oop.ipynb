{
 "cells": [
  {
   "cell_type": "code",
   "execution_count": 21,
   "id": "14c9a5f1-ca9d-40bb-bfe3-d1c0f49962e0",
   "metadata": {},
   "outputs": [],
   "source": [
    "import pandas as pd\n",
    "import numpy as np\n",
    "import math "
   ]
  },
  {
   "cell_type": "code",
   "execution_count": 22,
   "id": "477ab12d-47ae-46b7-bc38-a6bb6a5300f7",
   "metadata": {},
   "outputs": [],
   "source": [
    "class PredictClassification:\n",
    "    def __init__(self, x1, x2, k):\n",
    "        self.x1 = x1\n",
    "        self.x2 = x2\n",
    "        self.k = k\n",
    "\n",
    "    def excel_reader(self):\n",
    "        self.data = pd.read_excel('data.xlsx')\n",
    "        self.df = pd.DataFrame(self.data)\n",
    "        \n",
    "\n",
    "        self.acid_durability = self.df['Acid Durability'].tolist()\n",
    "        self.strength = self.df['Strength'].tolist()\n",
    "        self.classfication = self.df['Classification'].tolist()\n",
    "        \n",
    "        self.acid_durability = self.df['Acid Durability'].tolist()\n",
    "        self.strength = self.df['Strength'].tolist()\n",
    "        self.df['Classification'] = self.df['Classification'].str.lower()\n",
    "        self.classification = self.df['Classification'].tolist()\n",
    "        \n",
    "        return self.acid_durability, self.strength, self.classification\n",
    "        \n",
    "    def euclidean_distance(self):\n",
    "        distances = []\n",
    "        for index, (xx, yy) in enumerate(zip(self.acid_durability, self.strength)):\n",
    "            distance = math.sqrt((self.x1 - xx) ** 2 + (self.x2 - yy) ** 2)\n",
    "            distances.append((distance, index))\n",
    "        return distances\n",
    "\n",
    "    def rank_elements(self, distances):\n",
    "        classifications = []\n",
    "        sorted_distances = sorted(distances, key=lambda x: x[0])\n",
    "        smallest_k_distances = sorted_distances[:self.k]\n",
    "        for _, index in smallest_k_distances:\n",
    "            label = self.classification[index]\n",
    "            classifications.append(label)\n",
    "        return smallest_k_distances, classifications\n",
    "\n",
    "    def predict(self):\n",
    "        distances = self.euclidean_distance()\n",
    "        smallest_distances, classifications = self.rank_elements(distances)\n",
    "        good_count = classifications.count('good')\n",
    "        bad_count = classifications.count('bad')\n",
    "        if good_count > bad_count:\n",
    "            result = \"good\"\n",
    "        else:\n",
    "            result = \"bad\"\n",
    "        return result"
   ]
  },
  {
   "cell_type": "code",
   "execution_count": 23,
   "id": "88401ef1-28be-470a-b6bf-500a1d50198a",
   "metadata": {},
   "outputs": [],
   "source": [
    "def main():\n",
    "    predictor = PredictClassification(3, 7, 3)\n",
    "    predictor.excel_reader()\n",
    "    distances = predictor.euclidean_distance()\n",
    "    smallest_distances, classifications = predictor.rank_elements(distances)\n",
    "    predicted_result = predictor.predict()\n",
    "    \n",
    "    print(\"Smallest distances with indexes:\", smallest_distances)\n",
    "    print(\"Classifications for the smallest distances:\", classifications)\n",
    "    print(\"Predicted Result: \", predicted_result)"
   ]
  },
  {
   "cell_type": "code",
   "execution_count": 24,
   "id": "dbda704a-a0ce-46d2-aa10-d2a9abf9b4d1",
   "metadata": {},
   "outputs": [
    {
     "name": "stdout",
     "output_type": "stream",
     "text": [
      "Smallest distances with indexes: [(3.0, 2), (3.605551275463989, 3), (4.0, 0)]\n",
      "Classifications for the smallest distances: ['good', 'good', 'bad']\n",
      "Predicted Result:  good\n"
     ]
    }
   ],
   "source": [
    "if __name__ == \"__main__\":\n",
    "    main()"
   ]
  },
  {
   "cell_type": "code",
   "execution_count": null,
   "id": "9836d7b5-0503-41f3-b7f4-d3ad3bc30443",
   "metadata": {},
   "outputs": [],
   "source": []
  },
  {
   "cell_type": "code",
   "execution_count": null,
   "id": "e03b100e-a7e9-4ca1-835d-5cd6c44a47c7",
   "metadata": {},
   "outputs": [],
   "source": []
  },
  {
   "cell_type": "code",
   "execution_count": null,
   "id": "62936ac7-abbf-427f-8cef-2dc66b2c6d2d",
   "metadata": {},
   "outputs": [],
   "source": []
  }
 ],
 "metadata": {
  "kernelspec": {
   "display_name": "Python 3 (ipykernel)",
   "language": "python",
   "name": "python3"
  },
  "language_info": {
   "codemirror_mode": {
    "name": "ipython",
    "version": 3
   },
   "file_extension": ".py",
   "mimetype": "text/x-python",
   "name": "python",
   "nbconvert_exporter": "python",
   "pygments_lexer": "ipython3",
   "version": "3.12.0"
  }
 },
 "nbformat": 4,
 "nbformat_minor": 5
}
