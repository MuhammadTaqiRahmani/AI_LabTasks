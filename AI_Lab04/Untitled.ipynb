{
 "cells": [
  {
   "cell_type": "code",
   "execution_count": 101,
   "id": "2975bb79-3dd0-467b-ac0e-1cdb58aa2767",
   "metadata": {},
   "outputs": [],
   "source": [
    "import pandas as pd\n",
    "import numpy as np\n",
    "from sklearn.preprocessing import LabelEncoder\n",
    "from sklearn.naive_bayes import GaussianNB"
   ]
  },
  {
   "cell_type": "code",
   "execution_count": 102,
   "id": "6724e3e9-9673-40d0-9e6b-c57f19a6a69e",
   "metadata": {},
   "outputs": [],
   "source": [
    "class NaiveBayes:\n",
    "    def __init__(self, csv_file):\n",
    "        self.csv_file = csv_file\n",
    "        self.df = None\n",
    "        self.feature_probabilities = None\n",
    "\n",
    "    def csv_reader(self):\n",
    "        self.df = pd.read_csv(self.csv_file)  \n",
    "        return self.df\n",
    "\n",
    "    def total_elements(self):\n",
    "        return self.df.shape[0]\n",
    "\n",
    "    def calculate_yes_no(self):\n",
    "        counts = self.df['buys_computer'].value_counts() \n",
    "        total_yes = counts.get(\"yes\", 0)\n",
    "        total_no = counts.get(\"no\", 0)\n",
    "        return total_yes, total_no\n",
    "\n",
    "\n",
    "    def calculate_feature_probabilities(self):\n",
    "        total_yes, total_no = self.calculate_yes_no()\n",
    "        feature_probabilities = {}\n",
    "        \n",
    "        for feature in ['age', 'income', 'student', 'credit_rating']:\n",
    "            feature_probabilities[feature] = {}\n",
    "            \n",
    "            for category in self.df[feature].unique():\n",
    "                count_yes = len(self.df[(self.df[feature] == category) & (self.df['buys_computer'] == 'yes')])\n",
    "                count_no = len(self.df[(self.df[feature] == category) & (self.df['buys_computer'] == 'no')])\n",
    "                \n",
    "                prob_yes = count_yes / total_yes if total_yes > 0 else 0\n",
    "                prob_no = count_no / total_no if total_no > 0 else 0\n",
    "                \n",
    "                feature_probabilities[feature][category] = {'yes': prob_yes, 'no': prob_no}\n",
    "        \n",
    "        self.feature_probabilities = feature_probabilities\n",
    "        return feature_probabilities\n",
    "\n",
    "    def probability_total_yes_no(self):\n",
    "        total_yes, total_no = self.calculate_yes_no()\n",
    "        total_elements = self.total_elements()\n",
    "        prob_y = total_yes / total_elements if total_elements > 0 else 0\n",
    "        prob_n = total_no / total_elements if total_elements > 0 else 0\n",
    "        \n",
    "        return prob_y, prob_n\n",
    "\n",
    "    def calculate_probability(self, input_data):\n",
    "        prob_yes = 1.0\n",
    "        prob_no = 1.0\n",
    "        \n",
    "        for feature, category in input_data.items():\n",
    "            if feature in self.feature_probabilities:\n",
    "                prob_yes *= self.feature_probabilities[feature].get(category, {}).get('yes', 0)\n",
    "                prob_no *= self.feature_probabilities[feature].get(category, {}).get('no', 0)\n",
    "        prob_y, prob_n = self.probability_total_yes_no()\n",
    "        p_y = prob_yes * prob_y\n",
    "        p_n = prob_no * prob_n\n",
    "        \n",
    "        return p_y, p_n\n",
    "\n",
    "    def final_result(self, input_data):\n",
    "        if self.feature_probabilities is None:\n",
    "            raise ValueError(\"Feature probabilities have not been calculated.\")\n",
    "        \n",
    "        prob_yes, prob_no = self.calculate_probability(input_data)\n",
    "        \n",
    "        if prob_yes > prob_no:\n",
    "            print(f\"The prediction is Yes with probability {prob_yes}\")\n",
    "        elif prob_no > prob_yes:\n",
    "            print(f\"The prediction is No with probability {prob_no}\")\n",
    "        else:\n",
    "            print(\"The prediction is inconclusive.\")"
   ]
  },
  {
   "cell_type": "code",
   "execution_count": 103,
   "id": "cf1205ae-3dac-4906-b3d2-3610d4a7e543",
   "metadata": {},
   "outputs": [],
   "source": [
    "def main(input_data):\n",
    "    nb = NaiveBayes('student.csv')\n",
    "    nb.csv_reader() \n",
    "    nb.calculate_feature_probabilities()  \n",
    "    nb.final_result(input_data)"
   ]
  },
  {
   "cell_type": "code",
   "execution_count": 104,
   "id": "01b78016-b5bf-40e7-b021-e41d35c970c9",
   "metadata": {},
   "outputs": [
    {
     "ename": "KeyError",
     "evalue": "'buys_computer'",
     "output_type": "error",
     "traceback": [
      "\u001b[1;31m---------------------------------------------------------------------------\u001b[0m",
      "\u001b[1;31mKeyError\u001b[0m                                  Traceback (most recent call last)",
      "File \u001b[1;32m~\\AppData\\Local\\Programs\\Python\\Python313\\Lib\\site-packages\\pandas\\core\\indexes\\base.py:3805\u001b[0m, in \u001b[0;36mIndex.get_loc\u001b[1;34m(self, key)\u001b[0m\n\u001b[0;32m   3804\u001b[0m \u001b[38;5;28;01mtry\u001b[39;00m:\n\u001b[1;32m-> 3805\u001b[0m     \u001b[38;5;28;01mreturn\u001b[39;00m \u001b[38;5;28;43mself\u001b[39;49m\u001b[38;5;241;43m.\u001b[39;49m\u001b[43m_engine\u001b[49m\u001b[38;5;241;43m.\u001b[39;49m\u001b[43mget_loc\u001b[49m\u001b[43m(\u001b[49m\u001b[43mcasted_key\u001b[49m\u001b[43m)\u001b[49m\n\u001b[0;32m   3806\u001b[0m \u001b[38;5;28;01mexcept\u001b[39;00m \u001b[38;5;167;01mKeyError\u001b[39;00m \u001b[38;5;28;01mas\u001b[39;00m err:\n",
      "File \u001b[1;32mindex.pyx:167\u001b[0m, in \u001b[0;36mpandas._libs.index.IndexEngine.get_loc\u001b[1;34m()\u001b[0m\n",
      "File \u001b[1;32mindex.pyx:196\u001b[0m, in \u001b[0;36mpandas._libs.index.IndexEngine.get_loc\u001b[1;34m()\u001b[0m\n",
      "File \u001b[1;32mpandas\\\\_libs\\\\hashtable_class_helper.pxi:7081\u001b[0m, in \u001b[0;36mpandas._libs.hashtable.PyObjectHashTable.get_item\u001b[1;34m()\u001b[0m\n",
      "File \u001b[1;32mpandas\\\\_libs\\\\hashtable_class_helper.pxi:7089\u001b[0m, in \u001b[0;36mpandas._libs.hashtable.PyObjectHashTable.get_item\u001b[1;34m()\u001b[0m\n",
      "\u001b[1;31mKeyError\u001b[0m: 'buys_computer'",
      "\nThe above exception was the direct cause of the following exception:\n",
      "\u001b[1;31mKeyError\u001b[0m                                  Traceback (most recent call last)",
      "Cell \u001b[1;32mIn[104], line 9\u001b[0m\n\u001b[0;32m      1\u001b[0m \u001b[38;5;28;01mif\u001b[39;00m \u001b[38;5;18m__name__\u001b[39m \u001b[38;5;241m==\u001b[39m \u001b[38;5;124m\"\u001b[39m\u001b[38;5;124m__main__\u001b[39m\u001b[38;5;124m\"\u001b[39m:\n\u001b[0;32m      2\u001b[0m     input_data \u001b[38;5;241m=\u001b[39m {\n\u001b[0;32m      3\u001b[0m         \u001b[38;5;124m'\u001b[39m\u001b[38;5;124mage\u001b[39m\u001b[38;5;124m'\u001b[39m: \u001b[38;5;124m'\u001b[39m\u001b[38;5;124myouth\u001b[39m\u001b[38;5;124m'\u001b[39m,\n\u001b[0;32m      4\u001b[0m         \u001b[38;5;124m'\u001b[39m\u001b[38;5;124mincome\u001b[39m\u001b[38;5;124m'\u001b[39m: \u001b[38;5;124m'\u001b[39m\u001b[38;5;124mmedium_aged\u001b[39m\u001b[38;5;124m'\u001b[39m,\n\u001b[0;32m      5\u001b[0m         \u001b[38;5;124m'\u001b[39m\u001b[38;5;124mstudent\u001b[39m\u001b[38;5;124m'\u001b[39m: \u001b[38;5;124m'\u001b[39m\u001b[38;5;124mno\u001b[39m\u001b[38;5;124m'\u001b[39m,\n\u001b[0;32m      6\u001b[0m         \u001b[38;5;124m'\u001b[39m\u001b[38;5;124mcredit_rating\u001b[39m\u001b[38;5;124m'\u001b[39m: \u001b[38;5;124m'\u001b[39m\u001b[38;5;124mfair\u001b[39m\u001b[38;5;124m'\u001b[39m\n\u001b[0;32m      7\u001b[0m     }\n\u001b[1;32m----> 9\u001b[0m     \u001b[43mmain\u001b[49m\u001b[43m(\u001b[49m\u001b[43minput_data\u001b[49m\u001b[43m)\u001b[49m\n",
      "Cell \u001b[1;32mIn[103], line 4\u001b[0m, in \u001b[0;36mmain\u001b[1;34m(input_data)\u001b[0m\n\u001b[0;32m      2\u001b[0m nb \u001b[38;5;241m=\u001b[39m NaiveBayes(\u001b[38;5;124m'\u001b[39m\u001b[38;5;124mstudent.csv\u001b[39m\u001b[38;5;124m'\u001b[39m)\n\u001b[0;32m      3\u001b[0m nb\u001b[38;5;241m.\u001b[39mcsv_reader() \n\u001b[1;32m----> 4\u001b[0m \u001b[43mnb\u001b[49m\u001b[38;5;241;43m.\u001b[39;49m\u001b[43mcalculate_feature_probabilities\u001b[49m\u001b[43m(\u001b[49m\u001b[43m)\u001b[49m  \n\u001b[0;32m      5\u001b[0m nb\u001b[38;5;241m.\u001b[39mfinal_result(input_data)\n",
      "Cell \u001b[1;32mIn[102], line 22\u001b[0m, in \u001b[0;36mNaiveBayes.calculate_feature_probabilities\u001b[1;34m(self)\u001b[0m\n\u001b[0;32m     21\u001b[0m \u001b[38;5;28;01mdef\u001b[39;00m \u001b[38;5;21mcalculate_feature_probabilities\u001b[39m(\u001b[38;5;28mself\u001b[39m):\n\u001b[1;32m---> 22\u001b[0m     total_yes, total_no \u001b[38;5;241m=\u001b[39m \u001b[38;5;28;43mself\u001b[39;49m\u001b[38;5;241;43m.\u001b[39;49m\u001b[43mcalculate_yes_no\u001b[49m\u001b[43m(\u001b[49m\u001b[43m)\u001b[49m\n\u001b[0;32m     23\u001b[0m     feature_probabilities \u001b[38;5;241m=\u001b[39m {}\n\u001b[0;32m     25\u001b[0m     \u001b[38;5;28;01mfor\u001b[39;00m feature \u001b[38;5;129;01min\u001b[39;00m [\u001b[38;5;124m'\u001b[39m\u001b[38;5;124mage\u001b[39m\u001b[38;5;124m'\u001b[39m, \u001b[38;5;124m'\u001b[39m\u001b[38;5;124mincome\u001b[39m\u001b[38;5;124m'\u001b[39m, \u001b[38;5;124m'\u001b[39m\u001b[38;5;124mstudent\u001b[39m\u001b[38;5;124m'\u001b[39m, \u001b[38;5;124m'\u001b[39m\u001b[38;5;124mcredit_rating\u001b[39m\u001b[38;5;124m'\u001b[39m]:\n",
      "Cell \u001b[1;32mIn[102], line 15\u001b[0m, in \u001b[0;36mNaiveBayes.calculate_yes_no\u001b[1;34m(self)\u001b[0m\n\u001b[0;32m     14\u001b[0m \u001b[38;5;28;01mdef\u001b[39;00m \u001b[38;5;21mcalculate_yes_no\u001b[39m(\u001b[38;5;28mself\u001b[39m):\n\u001b[1;32m---> 15\u001b[0m     counts \u001b[38;5;241m=\u001b[39m \u001b[38;5;28;43mself\u001b[39;49m\u001b[38;5;241;43m.\u001b[39;49m\u001b[43mdf\u001b[49m\u001b[43m[\u001b[49m\u001b[38;5;124;43m'\u001b[39;49m\u001b[38;5;124;43mbuys_computer\u001b[39;49m\u001b[38;5;124;43m'\u001b[39;49m\u001b[43m]\u001b[49m\u001b[38;5;241m.\u001b[39mvalue_counts() \n\u001b[0;32m     16\u001b[0m     total_yes \u001b[38;5;241m=\u001b[39m counts\u001b[38;5;241m.\u001b[39mget(\u001b[38;5;124m\"\u001b[39m\u001b[38;5;124myes\u001b[39m\u001b[38;5;124m\"\u001b[39m, \u001b[38;5;241m0\u001b[39m)\n\u001b[0;32m     17\u001b[0m     total_no \u001b[38;5;241m=\u001b[39m counts\u001b[38;5;241m.\u001b[39mget(\u001b[38;5;124m\"\u001b[39m\u001b[38;5;124mno\u001b[39m\u001b[38;5;124m\"\u001b[39m, \u001b[38;5;241m0\u001b[39m)\n",
      "File \u001b[1;32m~\\AppData\\Local\\Programs\\Python\\Python313\\Lib\\site-packages\\pandas\\core\\frame.py:4102\u001b[0m, in \u001b[0;36mDataFrame.__getitem__\u001b[1;34m(self, key)\u001b[0m\n\u001b[0;32m   4100\u001b[0m \u001b[38;5;28;01mif\u001b[39;00m \u001b[38;5;28mself\u001b[39m\u001b[38;5;241m.\u001b[39mcolumns\u001b[38;5;241m.\u001b[39mnlevels \u001b[38;5;241m>\u001b[39m \u001b[38;5;241m1\u001b[39m:\n\u001b[0;32m   4101\u001b[0m     \u001b[38;5;28;01mreturn\u001b[39;00m \u001b[38;5;28mself\u001b[39m\u001b[38;5;241m.\u001b[39m_getitem_multilevel(key)\n\u001b[1;32m-> 4102\u001b[0m indexer \u001b[38;5;241m=\u001b[39m \u001b[38;5;28;43mself\u001b[39;49m\u001b[38;5;241;43m.\u001b[39;49m\u001b[43mcolumns\u001b[49m\u001b[38;5;241;43m.\u001b[39;49m\u001b[43mget_loc\u001b[49m\u001b[43m(\u001b[49m\u001b[43mkey\u001b[49m\u001b[43m)\u001b[49m\n\u001b[0;32m   4103\u001b[0m \u001b[38;5;28;01mif\u001b[39;00m is_integer(indexer):\n\u001b[0;32m   4104\u001b[0m     indexer \u001b[38;5;241m=\u001b[39m [indexer]\n",
      "File \u001b[1;32m~\\AppData\\Local\\Programs\\Python\\Python313\\Lib\\site-packages\\pandas\\core\\indexes\\base.py:3812\u001b[0m, in \u001b[0;36mIndex.get_loc\u001b[1;34m(self, key)\u001b[0m\n\u001b[0;32m   3807\u001b[0m     \u001b[38;5;28;01mif\u001b[39;00m \u001b[38;5;28misinstance\u001b[39m(casted_key, \u001b[38;5;28mslice\u001b[39m) \u001b[38;5;129;01mor\u001b[39;00m (\n\u001b[0;32m   3808\u001b[0m         \u001b[38;5;28misinstance\u001b[39m(casted_key, abc\u001b[38;5;241m.\u001b[39mIterable)\n\u001b[0;32m   3809\u001b[0m         \u001b[38;5;129;01mand\u001b[39;00m \u001b[38;5;28many\u001b[39m(\u001b[38;5;28misinstance\u001b[39m(x, \u001b[38;5;28mslice\u001b[39m) \u001b[38;5;28;01mfor\u001b[39;00m x \u001b[38;5;129;01min\u001b[39;00m casted_key)\n\u001b[0;32m   3810\u001b[0m     ):\n\u001b[0;32m   3811\u001b[0m         \u001b[38;5;28;01mraise\u001b[39;00m InvalidIndexError(key)\n\u001b[1;32m-> 3812\u001b[0m     \u001b[38;5;28;01mraise\u001b[39;00m \u001b[38;5;167;01mKeyError\u001b[39;00m(key) \u001b[38;5;28;01mfrom\u001b[39;00m \u001b[38;5;21;01merr\u001b[39;00m\n\u001b[0;32m   3813\u001b[0m \u001b[38;5;28;01mexcept\u001b[39;00m \u001b[38;5;167;01mTypeError\u001b[39;00m:\n\u001b[0;32m   3814\u001b[0m     \u001b[38;5;66;03m# If we have a listlike key, _check_indexing_error will raise\u001b[39;00m\n\u001b[0;32m   3815\u001b[0m     \u001b[38;5;66;03m#  InvalidIndexError. Otherwise we fall through and re-raise\u001b[39;00m\n\u001b[0;32m   3816\u001b[0m     \u001b[38;5;66;03m#  the TypeError.\u001b[39;00m\n\u001b[0;32m   3817\u001b[0m     \u001b[38;5;28mself\u001b[39m\u001b[38;5;241m.\u001b[39m_check_indexing_error(key)\n",
      "\u001b[1;31mKeyError\u001b[0m: 'buys_computer'"
     ]
    }
   ],
   "source": [
    "if __name__ == \"__main__\":\n",
    "    input_data = {\n",
    "        'age': 'youth',\n",
    "        'income': 'medium_aged',\n",
    "        'student': 'no',\n",
    "        'credit_rating': 'fair'\n",
    "    }\n",
    "    \n",
    "    main(input_data)"
   ]
  },
  {
   "cell_type": "code",
   "execution_count": null,
   "id": "22675c64-7c7a-407a-b448-05c616768cec",
   "metadata": {},
   "outputs": [],
   "source": []
  },
  {
   "cell_type": "code",
   "execution_count": null,
   "id": "ed88b347-c5ba-4ffc-8843-71ea1a094344",
   "metadata": {},
   "outputs": [],
   "source": []
  },
  {
   "cell_type": "code",
   "execution_count": null,
   "id": "0668a5e7-dae0-4c92-b4e7-4eb8db0e6235",
   "metadata": {},
   "outputs": [],
   "source": []
  }
 ],
 "metadata": {
  "kernelspec": {
   "display_name": "Python 3 (ipykernel)",
   "language": "python",
   "name": "python3"
  },
  "language_info": {
   "codemirror_mode": {
    "name": "ipython",
    "version": 3
   },
   "file_extension": ".py",
   "mimetype": "text/x-python",
   "name": "python",
   "nbconvert_exporter": "python",
   "pygments_lexer": "ipython3",
   "version": "3.13.0"
  }
 },
 "nbformat": 4,
 "nbformat_minor": 5
}
