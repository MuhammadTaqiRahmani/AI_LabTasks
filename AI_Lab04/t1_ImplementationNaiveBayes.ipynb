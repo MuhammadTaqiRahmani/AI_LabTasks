{
 "cells": [
  {
   "cell_type": "code",
   "execution_count": 5,
   "id": "2975bb79-3dd0-467b-ac0e-1cdb58aa2767",
   "metadata": {},
   "outputs": [],
   "source": [
    "import pandas as pd\n",
    "import numpy as np\n",
    "from sklearn.preprocessing import LabelEncoder\n",
    "from sklearn.naive_bayes import GaussianNB"
   ]
  },
  {
   "cell_type": "code",
   "execution_count": 6,
   "id": "6724e3e9-9673-40d0-9e6b-c57f19a6a69e",
   "metadata": {},
   "outputs": [],
   "source": [
    "class NaiveBayes:\n",
    "    def __init__(self,excel_file,k):\n",
    "        self.excel_file = excel_file\n",
    "        self.this_weather = LabelEncoder()\n",
    "        self.this_temperature = LabelEncoder()\n",
    "        self.this_play = LabelEncoder()\n",
    "        self.k = 3\n",
    "\n",
    "    def excel_reader(self):\n",
    "        self.data = pd.read_csv(self.excel_file)\n",
    "        self.df = pd.DataFrame(self.data)\n",
    "        return self.df\n",
    "\n",
    "    # Correct the method name\n",
    "    def encode_processes(self):\n",
    "        self.df['Weather'] = self.this_weather.fit_transform(self.df['Weather'])\n",
    "        self.df['Temperature'] = self.this_temperature.fit_transform(self.df['Temperature'])\n",
    "        self.df['Play'] = self.this_play.fit_transform(self.df['Play'])\n",
    "    \n",
    "        x_feature = self.df[['Weather', 'Temperature']].values\n",
    "        y_result = self.df['Play']\n",
    "    \n",
    "        return x_feature, y_result\n",
    "\n",
    "\n",
    "    def application_of_naivebayes(self, features, target):\n",
    "        nvb = GaussianNB()\n",
    "        nvb.fit(features, target)\n",
    "        \n",
    "        return nvb \n",
    "\n",
    "\n",
    "    def model_train(self):\n",
    "        test_weather = self.this_weather.transform(['Overcast'])[0]\n",
    "        test_temperature = self.this_temperature.transform(['Mild'])[0]\n",
    "        test_data = np.array([[test_weather, test_temperature]])\n",
    "        return test_data\n",
    "\n",
    "    def predict_play(self, nvb, test_data):\n",
    "        prediction = nvb.predict(test_data)\n",
    "        prediction_label = self.this_play.inverse_transform(prediction)\n",
    "        return prediction_label[0]        \n",
    "        "
   ]
  },
  {
   "cell_type": "code",
   "execution_count": 7,
   "id": "cf1205ae-3dac-4906-b3d2-3610d4a7e543",
   "metadata": {},
   "outputs": [],
   "source": [
    "def main():\n",
    "    predictor = NaiveBayes('data.csv', 3)\n",
    "    predictor.excel_reader()\n",
    "    features, target = predictor.encode_processes()\n",
    "    \n",
    "    nvb_model = predictor.application_of_naivebayes(features, target)\n",
    "    test_data = predictor.model_train()\n",
    "    \n",
    "    prediction = predictor.predict_play(nvb_model, test_data)\n",
    "    \n",
    "    print(\"Result:\", prediction)"
   ]
  },
  {
   "cell_type": "code",
   "execution_count": 8,
   "id": "01b78016-b5bf-40e7-b021-e41d35c970c9",
   "metadata": {},
   "outputs": [
    {
     "name": "stdout",
     "output_type": "stream",
     "text": [
      "Result: Yes\n"
     ]
    }
   ],
   "source": [
    "if __name__ == \"__main__\":\n",
    "    main()"
   ]
  },
  {
   "cell_type": "code",
   "execution_count": null,
   "id": "22675c64-7c7a-407a-b448-05c616768cec",
   "metadata": {},
   "outputs": [],
   "source": []
  },
  {
   "cell_type": "code",
   "execution_count": null,
   "id": "ed88b347-c5ba-4ffc-8843-71ea1a094344",
   "metadata": {},
   "outputs": [],
   "source": []
  },
  {
   "cell_type": "code",
   "execution_count": null,
   "id": "0668a5e7-dae0-4c92-b4e7-4eb8db0e6235",
   "metadata": {},
   "outputs": [],
   "source": []
  }
 ],
 "metadata": {
  "kernelspec": {
   "display_name": "Python 3 (ipykernel)",
   "language": "python",
   "name": "python3"
  },
  "language_info": {
   "codemirror_mode": {
    "name": "ipython",
    "version": 3
   },
   "file_extension": ".py",
   "mimetype": "text/x-python",
   "name": "python",
   "nbconvert_exporter": "python",
   "pygments_lexer": "ipython3",
   "version": "3.13.0"
  }
 },
 "nbformat": 4,
 "nbformat_minor": 5
}
