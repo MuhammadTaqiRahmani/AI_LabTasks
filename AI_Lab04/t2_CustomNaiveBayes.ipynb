{
 "cells": [
  {
   "cell_type": "code",
   "execution_count": 13,
   "id": "2975bb79-3dd0-467b-ac0e-1cdb58aa2767",
   "metadata": {
    "ExecuteTime": {
     "end_time": "2024-11-12T15:18:12.674648Z",
     "start_time": "2024-11-12T15:18:12.670113Z"
    }
   },
   "outputs": [],
   "source": [
    "import pandas as pd\n",
    "from sklearn.model_selection import train_test_split"
   ]
  },
  {
   "cell_type": "code",
   "execution_count": 14,
   "id": "6724e3e9-9673-40d0-9e6b-c57f19a6a69e",
   "metadata": {
    "ExecuteTime": {
     "end_time": "2024-11-12T15:18:13.068938Z",
     "start_time": "2024-11-12T15:18:13.056458Z"
    }
   },
   "outputs": [],
   "source": [
    "class NaiveBayes:\n",
    "    def __init__(self, df):\n",
    "        self.df = df\n",
    "\n",
    "    def total_elements(self):\n",
    "        return self.df.shape[0]\n",
    "\n",
    "    def calculate_yes_no(self):\n",
    "        counts = self.df['buys_computer'].value_counts()\n",
    "        total_yes = counts.get(\"yes\", 0)\n",
    "        total_no = counts.get(\"no\", 0)\n",
    "        return total_yes, total_no\n",
    "\n",
    "    def calculate_feature_probabilities(self):\n",
    "        total_yes, total_no = self.calculate_yes_no()\n",
    "        feature_probabilities = {}\n",
    "        \n",
    "        for feature in ['age', 'income', 'student', 'credit_rating']:\n",
    "            feature_probabilities[feature] = {}\n",
    "            \n",
    "            for category in self.df[feature].unique():\n",
    "                count_yes = len(self.df[(self.df[feature] == category) & (self.df['buys_computer'] == 'yes')])\n",
    "                count_no = len(self.df[(self.df[feature] == category) & (self.df['buys_computer'] == 'no')])\n",
    "                \n",
    "                prob_yes = count_yes / total_yes if total_yes > 0 else 0\n",
    "                prob_no = count_no / total_no if total_no > 0 else 0\n",
    "                \n",
    "                feature_probabilities[feature][category] = {'yes': prob_yes, 'no': prob_no}\n",
    "        \n",
    "        return feature_probabilities\n",
    "    \n",
    "    def probability_total_yes_no(self):\n",
    "        total_yes, total_no = self.calculate_yes_no()\n",
    "        total_elements = self.total_elements()\n",
    "        prob_y = total_yes / total_elements\n",
    "        prob_n = total_no / total_elements\n",
    "        return prob_y, prob_n\n",
    "\n",
    "    def predict(self, sample):\n",
    "        # Calculate probabilities\n",
    "        feature_prob = self.calculate_feature_probabilities()\n",
    "        prob_yes, prob_no = self.probability_total_yes_no()\n",
    "\n",
    "        sample_prob_yes = prob_yes\n",
    "        sample_prob_no = prob_no\n",
    "\n",
    "        for feature, category in sample.items():\n",
    "            if category in feature_prob[feature]:\n",
    "                sample_prob_yes *= feature_prob[feature][category]['yes']\n",
    "                sample_prob_no *= feature_prob[feature][category]['no']\n",
    "\n",
    "        return 'yes' if sample_prob_yes > sample_prob_no else 'no'\n",
    "\n",
    "    def accuracy(self, test_df):\n",
    "        correct_predictions = 0\n",
    "        for _, row in test_df.iterrows():\n",
    "            sample = row[['age', 'income', 'student', 'credit_rating']].to_dict()\n",
    "            actual = row['buys_computer']\n",
    "            prediction = self.predict(sample)\n",
    "            if prediction == actual:\n",
    "                correct_predictions += 1\n",
    "        return correct_predictions / len(test_df)"
   ]
  },
  {
   "cell_type": "code",
   "execution_count": 15,
   "id": "cf1205ae-3dac-4906-b3d2-3610d4a7e543",
   "metadata": {
    "ExecuteTime": {
     "end_time": "2024-11-12T15:18:13.529443Z",
     "start_time": "2024-11-12T15:18:13.523460Z"
    }
   },
   "outputs": [],
   "source": [
    "def main():\n",
    "    dataset_file = \"studentdata2.csv\"\n",
    "    df = pd.read_csv(dataset_file)\n",
    "\n",
    "    train_df, test_df = train_test_split(df, test_size=0.1, random_state=0)\n",
    "    \n",
    "    model = NaiveBayes(train_df)\n",
    "    \n",
    "    accuracy = model.accuracy(test_df)\n",
    "    print(f\"Accuracy on test set: {accuracy:.2f}\")\n",
    "\n",
    "    test_samples = [\n",
    "        {'age': 'youth', 'income': 'medium', 'student': 'yes', 'credit_rating': 'fair'}\n",
    "    ]\n",
    "\n",
    "    for i, sample in enumerate(test_samples, 1):\n",
    "        prediction = model.predict(sample)\n",
    "        print(f\"Prediction for test sample {i}: {prediction}\")        "
   ]
  },
  {
   "cell_type": "code",
   "execution_count": 16,
   "id": "01b78016-b5bf-40e7-b021-e41d35c970c9",
   "metadata": {
    "ExecuteTime": {
     "end_time": "2024-11-12T15:18:14.456102Z",
     "start_time": "2024-11-12T15:18:14.401899Z"
    }
   },
   "outputs": [
    {
     "name": "stdout",
     "output_type": "stream",
     "text": [
      "Accuracy on test set: 1.00\n",
      "Prediction for test sample 1: yes\n"
     ]
    }
   ],
   "source": [
    "if __name__ == \"__main__\":\n",
    "    main()"
   ]
  },
  {
   "cell_type": "code",
   "execution_count": null,
   "id": "7962409c-a95e-4cd1-8b49-129e7c336649",
   "metadata": {},
   "outputs": [],
   "source": []
  },
  {
   "cell_type": "code",
   "execution_count": null,
   "id": "d2bc7ac4-543a-4bf7-9e7a-5fbe59e6213b",
   "metadata": {},
   "outputs": [],
   "source": []
  },
  {
   "cell_type": "code",
   "execution_count": null,
   "id": "8962b73a-c1d6-4b57-ba53-6989a98f17f9",
   "metadata": {},
   "outputs": [],
   "source": []
  }
 ],
 "metadata": {
  "kernelspec": {
   "display_name": "Python 3 (ipykernel)",
   "language": "python",
   "name": "python3"
  },
  "language_info": {
   "codemirror_mode": {
    "name": "ipython",
    "version": 3
   },
   "file_extension": ".py",
   "mimetype": "text/x-python",
   "name": "python",
   "nbconvert_exporter": "python",
   "pygments_lexer": "ipython3",
   "version": "3.13.0"
  }
 },
 "nbformat": 4,
 "nbformat_minor": 5
}
