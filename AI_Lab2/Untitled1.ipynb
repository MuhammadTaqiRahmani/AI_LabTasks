{
 "cells": [
  {
   "cell_type": "code",
   "execution_count": 7,
   "id": "a27ee494-04bb-43dc-acfc-c231d208da72",
   "metadata": {},
   "outputs": [
    {
     "name": "stdout",
     "output_type": "stream",
     "text": [
      "                                                title    type  \\\n",
      "0   XIYUER Women's down jacket Short 90% duck down...    Coat   \n",
      "1                       Reebok Men's Softshell Jacket  Jacket   \n",
      "2   Mens Fleece Jacket Soft Plush Zip Up Fall Wint...  Jacket   \n",
      "3   Men's Casual Padded Jacket Winter Warm Hooded ...  Jacket   \n",
      "4   Men's Casual Padded Jacket Winter Warm Hooded ...  Jacket   \n",
      "5   Warm Mens Casual Padded Hooded Jacket Winter S...  Jacket   \n",
      "6   Men Winter Warm Thick Fleece Jacket Men Coat O...    Coat   \n",
      "7   Men's Waterproof Winter Jacket Warm Winter Coa...  Jacket   \n",
      "8   Men's Casual Padded Jacket Winter Warm Hooded ...  Jacket   \n",
      "9   Parka Ski Men Thick Winter Puffer Jacket Hoode...    Coat   \n",
      "10  Winter Men Warm Duck Down Jacket Ski Snow Thic...    Coat   \n",
      "11  Men's Winter Jacket Thick Thermal Cotton Warm ...    Coat   \n",
      "\n",
      "   priceWithCurrency                lastUpdated        availableText  \\\n",
      "0         US $229.00  Oct 16, 2024 09:26:58 PDT         10 available   \n",
      "1          US $40.00  Oct 16, 2024 12:16:32 PDT          5 available   \n",
      "2       US $14.99/ea  Oct 16, 2024 12:16:32 PDT          4 available   \n",
      "3       US $35.83/ea  Oct 17, 2024 18:11:06 PDT   3 available30 sold   \n",
      "4          US $35.83  Oct 18, 2024 20:02:23 PDT       Last one8 sold   \n",
      "5          US $35.00  Oct 18, 2024 20:02:23 PDT      Last one39 sold   \n",
      "6          US $32.64  Oct 17, 2024 18:54:55 PDT   10 available7 sold   \n",
      "7          US $32.75  Oct 13, 2024 13:30:10 PDT   6 available19 sold   \n",
      "8       US $29.36/ea  Oct 16, 2024 23:31:18 PDT   2 available22 sold   \n",
      "9        US $6.64/ea  Oct 17, 2024 08:57:04 PDT  50 available40 sold   \n",
      "10      US $11.42/ea  Oct 17, 2024 16:45:43 PDT   3 available14 sold   \n",
      "11         US $39.52  Oct 06, 2024 12:13:53 PDT       Last one4 sold   \n",
      "\n",
      "                         itemLocation  \n",
      "0         Hurst, Texas, United States  \n",
      "1         Hurst, Texas, United States  \n",
      "2   Alviso, California, United States  \n",
      "3   Brooklyn, New York, United States  \n",
      "4   Brooklyn, New York, United States  \n",
      "5   Brooklyn, New York, United States  \n",
      "6   Brooklyn, New York, United States  \n",
      "7   Brooklyn, New York, United States  \n",
      "8   Brooklyn, New York, United States  \n",
      "9   Brooklyn, New York, United States  \n",
      "10  Brooklyn, New York, United States  \n",
      "11  Brooklyn, New York, United States  \n"
     ]
    },
    {
     "name": "stderr",
     "output_type": "stream",
     "text": [
      "C:\\Users\\Skull Crusher\\AppData\\Local\\Temp\\ipykernel_2960\\1528872514.py:12: FutureWarning: DataFrame.fillna with 'method' is deprecated and will raise in a future version. Use obj.ffill() or obj.bfill() instead.\n",
      "  print(df.fillna(method='bfill')[0:12])\n"
     ]
    }
   ],
   "source": [
    "import pandas as pd\n",
    "\n",
    "try:\n",
    "    # Attempt to read the CSV file\n",
    "    df = pd.read_csv('C:/Users/Skull Crusher/OneDrive/OneDrive - SSUET/Desktop/arqum/PMC.csv')\n",
    "    \n",
    "    # Check if the DataFrame is empty\n",
    "    if df.empty:\n",
    "        print(\"The file is empty. No data to display.\")\n",
    "    else:\n",
    "        # Fill NaN values with backward fill method and display the first 12 rows\n",
    "        print(df.fillna(method='bfill')[0:12])\n",
    "\n",
    "except FileNotFoundError:\n",
    "    print(\"Error: The file 'PMC-Patients.csv' was not found. Please check the file path.\")\n",
    "except pd.errors.EmptyDataError:\n",
    "    print(\"Error: The file is empty or has no columns to parse.\")\n",
    "except pd.errors.ParserError:\n",
    "    print(\"Error: There was an issue parsing the file. Check the file format and delimiter.\")\n",
    "except Exception as e:\n",
    "    print(f\"An unexpected error occurred: {e}\")\n"
   ]
  },
  {
   "cell_type": "code",
   "execution_count": null,
   "id": "4d7d77c0-d4f5-4982-9b53-e53a860bbc01",
   "metadata": {},
   "outputs": [],
   "source": []
  }
 ],
 "metadata": {
  "kernelspec": {
   "display_name": "Python 3 (ipykernel)",
   "language": "python",
   "name": "python3"
  },
  "language_info": {
   "codemirror_mode": {
    "name": "ipython",
    "version": 3
   },
   "file_extension": ".py",
   "mimetype": "text/x-python",
   "name": "python",
   "nbconvert_exporter": "python",
   "pygments_lexer": "ipython3",
   "version": "3.12.0"
  }
 },
 "nbformat": 4,
 "nbformat_minor": 5
}
