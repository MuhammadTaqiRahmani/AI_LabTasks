{
 "cells": [
  {
   "cell_type": "code",
   "execution_count": 109,
   "id": "643fedeb-66f8-4f20-90b8-d947a2b900bf",
   "metadata": {},
   "outputs": [],
   "source": [
    "import pandas as pd"
   ]
  },
  {
   "cell_type": "code",
   "execution_count": 110,
   "id": "f397414f-bcc2-46a8-8b65-6f39f69239dd",
   "metadata": {},
   "outputs": [],
   "source": [
    "def file_path():\n",
    "    path = \"C:/Users/Skull Crusher/Downloads/CSV.csv\"\n",
    "    return path"
   ]
  },
  {
   "cell_type": "code",
   "execution_count": 111,
   "id": "06aef7a5-5d78-4d04-8170-5506d08cb03a",
   "metadata": {},
   "outputs": [],
   "source": [
    "def reader(file_path):\n",
    "    data = pd.read_csv(file_path)\n",
    "    data_packets = data.iloc[:, :2]\n",
    "    return data_packets"
   ]
  },
  {
   "cell_type": "code",
   "execution_count": 112,
   "id": "94449a64-51ef-468c-b657-fa2cd2e25691",
   "metadata": {},
   "outputs": [],
   "source": [
    "def main():\n",
    "    path = file_path()\n",
    "    result = reader(path)\n",
    "    print(result)"
   ]
  },
  {
   "cell_type": "code",
   "execution_count": 113,
   "id": "c9122767-26ae-4f1d-8f86-f321d9912fd8",
   "metadata": {},
   "outputs": [
    {
     "name": "stdout",
     "output_type": "stream",
     "text": [
      "                                                  title       type\n",
      "0     XIYUER Women's down jacket Short 90% duck down...       Coat\n",
      "1                         Reebok Men's Softshell Jacket        NaN\n",
      "2     Mens Fleece Jacket Soft Plush Zip Up Fall Wint...     Jacket\n",
      "3     Men's Casual Padded Jacket Winter Warm Hooded ...     Jacket\n",
      "4     Men's Casual Padded Jacket Winter Warm Hooded ...     Jacket\n",
      "...                                                 ...        ...\n",
      "1995  Men Midi Formal Cotton Blend Trench Coat Long ...       Coat\n",
      "1996  Mens Faux Fox Fur Mid Long Trench Coat Overcoa...     Jacket\n",
      "1997  Vintage 80s Centennial Cougars Nylon Varsity B...     Jacket\n",
      "1998  Men Faux Suede Cotton Jacket Vintage Faux Wool...  Waistcoat\n",
      "1999                                                NaN        NaN\n",
      "\n",
      "[2000 rows x 2 columns]\n"
     ]
    }
   ],
   "source": [
    "if __name__ == \"__main__\":\n",
    "    main()"
   ]
  },
  {
   "cell_type": "code",
   "execution_count": null,
   "id": "9f10d6c3-ea7c-4f42-85f3-8c6bce9efe50",
   "metadata": {},
   "outputs": [],
   "source": []
  }
 ],
 "metadata": {
  "kernelspec": {
   "display_name": "Python 3 (ipykernel)",
   "language": "python",
   "name": "python3"
  },
  "language_info": {
   "codemirror_mode": {
    "name": "ipython",
    "version": 3
   },
   "file_extension": ".py",
   "mimetype": "text/x-python",
   "name": "python",
   "nbconvert_exporter": "python",
   "pygments_lexer": "ipython3",
   "version": "3.12.0"
  }
 },
 "nbformat": 4,
 "nbformat_minor": 5
}
