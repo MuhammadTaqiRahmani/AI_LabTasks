{
 "cells": [
  {
   "cell_type": "code",
   "execution_count": 118,
   "id": "643fedeb-66f8-4f20-90b8-d947a2b900bf",
   "metadata": {},
   "outputs": [],
   "source": [
    "import pandas as pd"
   ]
  },
  {
   "cell_type": "code",
   "execution_count": 119,
   "id": "f397414f-bcc2-46a8-8b65-6f39f69239dd",
   "metadata": {},
   "outputs": [],
   "source": [
    "def file_path():\n",
    "    path = \"C:/Users/Skull Crusher/Downloads/CSV.csv\"\n",
    "    return path"
   ]
  },
  {
   "cell_type": "code",
   "execution_count": 120,
   "id": "06aef7a5-5d78-4d04-8170-5506d08cb03a",
   "metadata": {},
   "outputs": [],
   "source": [
    "def reader(file_path):\n",
    "    data = pd.read_csv(file_path, skiprows=2)\n",
    "    return data"
   ]
  },
  {
   "cell_type": "code",
   "execution_count": 121,
   "id": "94449a64-51ef-468c-b657-fa2cd2e25691",
   "metadata": {},
   "outputs": [],
   "source": [
    "def main():\n",
    "    path = file_path()\n",
    "    result = reader(path)\n",
    "    print(result)"
   ]
  },
  {
   "cell_type": "code",
   "execution_count": 122,
   "id": "c9122767-26ae-4f1d-8f86-f321d9912fd8",
   "metadata": {},
   "outputs": [
    {
     "name": "stdout",
     "output_type": "stream",
     "text": [
      "                          Reebok Men's Softshell Jacket        N/A  \\\n",
      "0     Mens Fleece Jacket Soft Plush Zip Up Fall Wint...     Jacket   \n",
      "1     Men's Casual Padded Jacket Winter Warm Hooded ...     Jacket   \n",
      "2     Men's Casual Padded Jacket Winter Warm Hooded ...     Jacket   \n",
      "3     Warm Mens Casual Padded Hooded Jacket Winter S...     Jacket   \n",
      "4     Men Winter Warm Thick Fleece Jacket Men Coat O...       Coat   \n",
      "...                                                 ...        ...   \n",
      "1993  Men Midi Formal Cotton Blend Trench Coat Long ...       Coat   \n",
      "1994  Mens Faux Fox Fur Mid Long Trench Coat Overcoa...     Jacket   \n",
      "1995  Vintage 80s Centennial Cougars Nylon Varsity B...     Jacket   \n",
      "1996  Men Faux Suede Cotton Jacket Vintage Faux Wool...  Waistcoat   \n",
      "1997                                                NaN        NaN   \n",
      "\n",
      "         US $40.00                 Unnamed: 3         5 available  \\\n",
      "0     US $14.99/ea  Oct 16, 2024 12:16:32 PDT         4 available   \n",
      "1     US $35.83/ea  Oct 17, 2024 18:11:06 PDT  3 available30 sold   \n",
      "2        US $35.83                        NaN      Last one8 sold   \n",
      "3        US $35.00  Oct 18, 2024 20:02:23 PDT     Last one39 sold   \n",
      "4        US $32.64  Oct 17, 2024 18:54:55 PDT  10 available7 sold   \n",
      "...            ...                        ...                 ...   \n",
      "1993      US $8.39  Oct 14, 2024 02:39:48 PDT         6 available   \n",
      "1994    US $112.49  Feb 25, 2024 17:51:10 PST            Last one   \n",
      "1995     GBP 30.00                        NaN                 NaN   \n",
      "1996     US $38.92                        NaN            Last one   \n",
      "1997           NaN                        NaN                 NaN   \n",
      "\n",
      "            Hurst, Texas, United States  \n",
      "0     Alviso, California, United States  \n",
      "1                                   NaN  \n",
      "2                                   NaN  \n",
      "3                                   NaN  \n",
      "4                                   NaN  \n",
      "...                                 ...  \n",
      "1993                                NaN  \n",
      "1994                                NaN  \n",
      "1995                                NaN  \n",
      "1996                                NaN  \n",
      "1997                                NaN  \n",
      "\n",
      "[1998 rows x 6 columns]\n"
     ]
    }
   ],
   "source": [
    "if __name__ == \"__main__\":\n",
    "    main()"
   ]
  },
  {
   "cell_type": "code",
   "execution_count": null,
   "id": "9f10d6c3-ea7c-4f42-85f3-8c6bce9efe50",
   "metadata": {},
   "outputs": [],
   "source": []
  }
 ],
 "metadata": {
  "kernelspec": {
   "display_name": "Python 3 (ipykernel)",
   "language": "python",
   "name": "python3"
  },
  "language_info": {
   "codemirror_mode": {
    "name": "ipython",
    "version": 3
   },
   "file_extension": ".py",
   "mimetype": "text/x-python",
   "name": "python",
   "nbconvert_exporter": "python",
   "pygments_lexer": "ipython3",
   "version": "3.12.0"
  }
 },
 "nbformat": 4,
 "nbformat_minor": 5
}
