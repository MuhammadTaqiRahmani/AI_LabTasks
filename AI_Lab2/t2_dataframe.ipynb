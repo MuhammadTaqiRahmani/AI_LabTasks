{
 "cells": [
  {
   "cell_type": "code",
   "execution_count": 104,
   "id": "643fedeb-66f8-4f20-90b8-d947a2b900bf",
   "metadata": {},
   "outputs": [],
   "source": [
    "import pandas as pd"
   ]
  },
  {
   "cell_type": "code",
   "execution_count": 105,
   "id": "f397414f-bcc2-46a8-8b65-6f39f69239dd",
   "metadata": {},
   "outputs": [],
   "source": [
    "def entriesAndFields():\n",
    "    subject_names = ['Math', 'Science', 'English', 'History']\n",
    "    index_names = ['Ali', 'Amir', 'Kamran', 'Sajid', 'Hassan']\n",
    "    return subject_names, index_names"
   ]
  },
  {
   "cell_type": "code",
   "execution_count": 106,
   "id": "06aef7a5-5d78-4d04-8170-5506d08cb03a",
   "metadata": {},
   "outputs": [],
   "source": [
    "def dataFrameTable(entries, fields):\n",
    "    data = [\n",
    "    [85, 90, 88, 92],\n",
    "    [78, 84, 80, 85],\n",
    "    [92, 88, 91, 87],\n",
    "    [70, 75, 72, 80],\n",
    "    [88, 82, 85, 90]\n",
    "    ]\n",
    "    df = pd.DataFrame(data, columns=entries, index=fields)\n",
    "    return df\n"
   ]
  },
  {
   "cell_type": "code",
   "execution_count": 107,
   "id": "94449a64-51ef-468c-b657-fa2cd2e25691",
   "metadata": {},
   "outputs": [],
   "source": [
    "def main():\n",
    "    entries, fields = entriesAndFields()\n",
    "    records = dataFrameTable(entries, fields)\n",
    "    print(records)"
   ]
  },
  {
   "cell_type": "code",
   "execution_count": 108,
   "id": "c9122767-26ae-4f1d-8f86-f321d9912fd8",
   "metadata": {},
   "outputs": [
    {
     "name": "stdout",
     "output_type": "stream",
     "text": [
      "        Math  Science  English  History\n",
      "Ali       85       90       88       92\n",
      "Amir      78       84       80       85\n",
      "Kamran    92       88       91       87\n",
      "Sajid     70       75       72       80\n",
      "Hassan    88       82       85       90\n"
     ]
    }
   ],
   "source": [
    "if __name__ == \"__main__\":\n",
    "    main()"
   ]
  },
  {
   "cell_type": "code",
   "execution_count": null,
   "id": "9f10d6c3-ea7c-4f42-85f3-8c6bce9efe50",
   "metadata": {},
   "outputs": [],
   "source": []
  }
 ],
 "metadata": {
  "kernelspec": {
   "display_name": "Python 3 (ipykernel)",
   "language": "python",
   "name": "python3"
  },
  "language_info": {
   "codemirror_mode": {
    "name": "ipython",
    "version": 3
   },
   "file_extension": ".py",
   "mimetype": "text/x-python",
   "name": "python",
   "nbconvert_exporter": "python",
   "pygments_lexer": "ipython3",
   "version": "3.12.0"
  }
 },
 "nbformat": 4,
 "nbformat_minor": 5
}
