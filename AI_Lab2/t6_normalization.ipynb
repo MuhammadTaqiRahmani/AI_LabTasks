{
 "cells": [
  {
   "cell_type": "code",
   "execution_count": 22,
   "id": "266acbc4-0fe2-4916-9a91-f94b2b2af414",
   "metadata": {},
   "outputs": [],
   "source": [
    "import pandas as pd"
   ]
  },
  {
   "cell_type": "code",
   "execution_count": 23,
   "id": "43665895-9f97-44be-b460-ed3a30f60cf4",
   "metadata": {},
   "outputs": [],
   "source": [
    "def data_frame_creation():\n",
    "    data = {\n",
    "        'Age': [25,36,30,27,38,42,34],\n",
    "        'Salary': [42000,50000,45000,43000,51000,62000,48000]\n",
    "    }\n",
    "    df = pd.DataFrame(data)\n",
    "    return df"
   ]
  },
  {
   "cell_type": "code",
   "execution_count": 24,
   "id": "c66e2760-235e-40b8-a86b-6c86c0338ceb",
   "metadata": {},
   "outputs": [],
   "source": [
    "def min_max_normalization(df, feature):\n",
    "    min_val = df[feature].min()\n",
    "    max_val = df[feature].max()\n",
    "    return (df[feature] - min_val)/(max_val - min_val)"
   ]
  },
  {
   "cell_type": "code",
   "execution_count": 25,
   "id": "74ed52c7-3bc6-47bc-9ec0-ac7ca6b51227",
   "metadata": {},
   "outputs": [],
   "source": [
    "def main():\n",
    "    result = data_frame_creation()\n",
    "    x = min_max_normalization(result, 'Age')\n",
    "    y = min_max_normalization(result, 'Salary')\n",
    "    print(x ,\"\\n\", y)"
   ]
  },
  {
   "cell_type": "code",
   "execution_count": 26,
   "id": "db092b40-cec3-46e9-bfb0-4ce60ce84448",
   "metadata": {},
   "outputs": [
    {
     "name": "stdout",
     "output_type": "stream",
     "text": [
      "0    0.000000\n",
      "1    0.647059\n",
      "2    0.294118\n",
      "3    0.117647\n",
      "4    0.764706\n",
      "5    1.000000\n",
      "6    0.529412\n",
      "Name: Age, dtype: float64 \n",
      " 0    0.00\n",
      "1    0.40\n",
      "2    0.15\n",
      "3    0.05\n",
      "4    0.45\n",
      "5    1.00\n",
      "6    0.30\n",
      "Name: Salary, dtype: float64\n"
     ]
    }
   ],
   "source": [
    "if __name__ == '__main__':\n",
    "    main()"
   ]
  },
  {
   "cell_type": "code",
   "execution_count": null,
   "id": "54149fef-10c1-4144-a8fc-9f3dd520cfd2",
   "metadata": {},
   "outputs": [],
   "source": []
  }
 ],
 "metadata": {
  "kernelspec": {
   "display_name": "Python 3 (ipykernel)",
   "language": "python",
   "name": "python3"
  },
  "language_info": {
   "codemirror_mode": {
    "name": "ipython",
    "version": 3
   },
   "file_extension": ".py",
   "mimetype": "text/x-python",
   "name": "python",
   "nbconvert_exporter": "python",
   "pygments_lexer": "ipython3",
   "version": "3.12.0"
  }
 },
 "nbformat": 4,
 "nbformat_minor": 5
}
