{
 "cells": [
  {
   "cell_type": "code",
   "execution_count": 82,
   "id": "266acbc4-0fe2-4916-9a91-f94b2b2af414",
   "metadata": {},
   "outputs": [],
   "source": [
    "import pandas as pd\n",
    "import numpy as np"
   ]
  },
  {
   "cell_type": "code",
   "execution_count": 83,
   "id": "43665895-9f97-44be-b460-ed3a30f60cf4",
   "metadata": {},
   "outputs": [],
   "source": [
    "def data_frame_creation():\n",
    "    dict_data = {'First Score': [100, 90, np.nan, 95],\n",
    "            'Second Score': [30, 45, 56, np.nan],\n",
    "            'Third Score': [np.nan, 40, 80, 98]}\n",
    "    df = pd.DataFrame(dict_data)\n",
    "    return df"
   ]
  },
  {
   "cell_type": "code",
   "execution_count": 84,
   "id": "c66e2760-235e-40b8-a86b-6c86c0338ceb",
   "metadata": {},
   "outputs": [],
   "source": [
    "def fill_null_values(data):\n",
    "    var = data.fillna(method='pad')\n",
    "    return var"
   ]
  },
  {
   "cell_type": "code",
   "execution_count": 85,
   "id": "74ed52c7-3bc6-47bc-9ec0-ac7ca6b51227",
   "metadata": {},
   "outputs": [],
   "source": [
    "def main():\n",
    "    x = data_frame_creation()\n",
    "    z = fill_null_values(x)\n",
    "    print(z)"
   ]
  },
  {
   "cell_type": "code",
   "execution_count": 86,
   "id": "db092b40-cec3-46e9-bfb0-4ce60ce84448",
   "metadata": {},
   "outputs": [
    {
     "name": "stdout",
     "output_type": "stream",
     "text": [
      "   First Score  Second Score  Third Score\n",
      "0        100.0          30.0          NaN\n",
      "1         90.0          45.0         40.0\n",
      "2         90.0          56.0         80.0\n",
      "3         95.0          56.0         98.0\n"
     ]
    },
    {
     "name": "stderr",
     "output_type": "stream",
     "text": [
      "C:\\Users\\Skull Crusher\\AppData\\Local\\Temp\\ipykernel_9976\\3606285399.py:2: FutureWarning: DataFrame.fillna with 'method' is deprecated and will raise in a future version. Use obj.ffill() or obj.bfill() instead.\n",
      "  var = data.fillna(method='pad')\n"
     ]
    }
   ],
   "source": [
    "if __name__ == '__main__':\n",
    "    main()"
   ]
  },
  {
   "cell_type": "code",
   "execution_count": null,
   "id": "54149fef-10c1-4144-a8fc-9f3dd520cfd2",
   "metadata": {},
   "outputs": [],
   "source": []
  }
 ],
 "metadata": {
  "kernelspec": {
   "display_name": "Python 3 (ipykernel)",
   "language": "python",
   "name": "python3"
  },
  "language_info": {
   "codemirror_mode": {
    "name": "ipython",
    "version": 3
   },
   "file_extension": ".py",
   "mimetype": "text/x-python",
   "name": "python",
   "nbconvert_exporter": "python",
   "pygments_lexer": "ipython3",
   "version": "3.12.0"
  }
 },
 "nbformat": 4,
 "nbformat_minor": 5
}
