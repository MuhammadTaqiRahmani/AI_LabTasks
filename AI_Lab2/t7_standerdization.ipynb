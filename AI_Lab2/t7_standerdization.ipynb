{
 "cells": [
  {
   "cell_type": "code",
   "execution_count": 1,
   "id": "cab384b9-8251-4a27-84c3-e466a705492f",
   "metadata": {},
   "outputs": [],
   "source": [
    "import pandas as pd"
   ]
  },
  {
   "cell_type": "code",
   "execution_count": 2,
   "id": "b01278c5-e1ed-4935-8e55-03e90eb73747",
   "metadata": {},
   "outputs": [],
   "source": [
    "def data_frame_creation():\n",
    "    data = {\n",
    "        'Age': [25, 36, 30, 27, 38, 42, 34],\n",
    "        'Salary': [42000, 50000, 45000, 43000, 51000, 62000, 48000]\n",
    "    }\n",
    "    df = pd.DataFrame(data)\n",
    "    return df"
   ]
  },
  {
   "cell_type": "code",
   "execution_count": 3,
   "id": "c7f7d7d8-35f8-40bf-88c8-d3f8844aa606",
   "metadata": {},
   "outputs": [],
   "source": [
    "def standardization(df, feature):\n",
    "    mean = df[feature].mean()\n",
    "    std_dev = df[feature].std()\n",
    "    return (df[feature] - mean) / std_dev"
   ]
  },
  {
   "cell_type": "code",
   "execution_count": 4,
   "id": "56275f02-67f8-47f7-b861-db56b4d99fac",
   "metadata": {},
   "outputs": [],
   "source": [
    "def main():\n",
    "    df = data_frame_creation()\n",
    "    standardized_age = standardization(df, 'Age')\n",
    "    standardized_salary = standardization(df, 'Salary')\n",
    "    print(\"Standardized Age:\\n\", standardized_age)\n",
    "    print(\"Standardized Salary:\\n\", standardized_salary)"
   ]
  },
  {
   "cell_type": "code",
   "execution_count": 5,
   "id": "a7f4c718-21d6-49de-a789-cd92e735e2c7",
   "metadata": {},
   "outputs": [
    {
     "name": "stdout",
     "output_type": "stream",
     "text": [
      "Standardized Age:\n",
      " 0   -1.330145\n",
      "1    0.466718\n",
      "2   -0.513389\n",
      "3   -1.003443\n",
      "4    0.793420\n",
      "5    1.446825\n",
      "6    0.140015\n",
      "Name: Age, dtype: float64\n",
      "Standardized Salary:\n",
      " 0   -0.990994\n",
      "1    0.189765\n",
      "2   -0.548209\n",
      "3   -0.843399\n",
      "4    0.337360\n",
      "5    1.960903\n",
      "6   -0.105425\n",
      "Name: Salary, dtype: float64\n"
     ]
    }
   ],
   "source": [
    "if __name__ == '__main__':\n",
    "    main()"
   ]
  },
  {
   "cell_type": "code",
   "execution_count": null,
   "id": "10fc0c68-5f13-4330-8911-d52aed857665",
   "metadata": {},
   "outputs": [],
   "source": []
  }
 ],
 "metadata": {
  "kernelspec": {
   "display_name": "Python 3 (ipykernel)",
   "language": "python",
   "name": "python3"
  },
  "language_info": {
   "codemirror_mode": {
    "name": "ipython",
    "version": 3
   },
   "file_extension": ".py",
   "mimetype": "text/x-python",
   "name": "python",
   "nbconvert_exporter": "python",
   "pygments_lexer": "ipython3",
   "version": "3.12.0"
  }
 },
 "nbformat": 4,
 "nbformat_minor": 5
}
