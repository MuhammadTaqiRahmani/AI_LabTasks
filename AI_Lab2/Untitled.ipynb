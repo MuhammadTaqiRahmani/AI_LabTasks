{
 "cells": [
  {
   "cell_type": "code",
   "execution_count": 31,
   "id": "643fedeb-66f8-4f20-90b8-d947a2b900bf",
   "metadata": {},
   "outputs": [],
   "source": [
    "import pandas as pd"
   ]
  },
  {
   "cell_type": "code",
   "execution_count": 32,
   "id": "74d9f8f0-3c3e-491a-b9b5-a38cf51fba6c",
   "metadata": {},
   "outputs": [],
   "source": [
    "import numpy as np"
   ]
  },
  {
   "cell_type": "code",
   "execution_count": 33,
   "id": "4bab2150-deae-4e6f-8b6f-46d8a227b59e",
   "metadata": {},
   "outputs": [],
   "source": [
    "def file_path():\n",
    "    path = \"C:/Users/Skull Crusher/Downloads/games.csv\"\n",
    "    return path"
   ]
  },
  {
   "cell_type": "code",
   "execution_count": 34,
   "id": "f397414f-bcc2-46a8-8b65-6f39f69239dd",
   "metadata": {},
   "outputs": [],
   "source": [
    "def csv_reader(path):\n",
    "    data = pd.read_csv(path)\n",
    "    return data"
   ]
  },
  {
   "cell_type": "code",
   "execution_count": 35,
   "id": "a65d36c7-6556-407e-b9ca-bb5216d40e39",
   "metadata": {},
   "outputs": [],
   "source": [
    "def csv_operations(data):\n",
    "    data_packets = data.iloc[:, :2]\n",
    "    path = file_path()\n",
    "    data_sliced = data = pd.read_csv(path, skiprows=2)\n",
    "    return data_packets, data_sliced"
   ]
  },
  {
   "cell_type": "code",
   "execution_count": 36,
   "id": "46db366d-bff3-465c-a0f8-1d57c4816707",
   "metadata": {},
   "outputs": [],
   "source": [
    "def fill_null_values(df):\n",
    "    if 'positive_ratio' in df.columns:\n",
    "        df['positive_ratio'].fillna('No value', inplace=True)\n",
    "    else:\n",
    "        print(\"Column 'positive_ratio' not found in dataframe\")\n",
    "    return df"
   ]
  },
  {
   "cell_type": "code",
   "execution_count": 37,
   "id": "cb5d0487-c110-4af2-8819-d6b3b2bddcea",
   "metadata": {},
   "outputs": [],
   "source": [
    "def main():\n",
    "    path = file_path()\n",
    "    dataFrame = csv_reader(path)\n",
    "    print(\"DataFrame columns:\", dataFrame.columns)\n",
    "    print(dataFrame)\n",
    "    x, y = csv_operations(dataFrame)\n",
    "    print(x , \"\\n\", y)\n",
    "    f_null = fill_null_values(y)\n",
    "    print(f_null)"
   ]
  },
  {
   "cell_type": "code",
   "execution_count": 38,
   "id": "c9122767-26ae-4f1d-8f86-f321d9912fd8",
   "metadata": {},
   "outputs": [
    {
     "name": "stdout",
     "output_type": "stream",
     "text": [
      "DataFrame columns: Index(['app_id', 'title', 'date_release', 'win', 'mac', 'linux', 'rating',\n",
      "       'positive_ratio', 'user_reviews', 'price_final', 'price_original',\n",
      "       'discount', 'steam_deck'],\n",
      "      dtype='object')\n",
      "        app_id                                      title date_release   win  \\\n",
      "0        13500          Prince of Persia: Warrior Within™   21/11/2008  True   \n",
      "1        22364                    BRINK: Agents of Change   03/08/2011  True   \n",
      "2       113020               Monaco: What's Yours Is Mine   24/04/2013  True   \n",
      "3       226560                         Escape Dead Island   18/11/2014  True   \n",
      "4       249050                    Dungeon of the ENDLESS™   27/10/2014  True   \n",
      "...        ...                                        ...          ...   ...   \n",
      "50867  2296380  I Expect You To Die 3: Cog in the Machine   28/09/2023  True   \n",
      "50868  1272080                                   PAYDAY 3   21/09/2023  True   \n",
      "50869  1402110                                 Eternights   11/09/2023  True   \n",
      "50870  2272250                        Forgive Me Father 2   19/10/2023  True   \n",
      "50871  2488510                                  FatalZone   23/10/2023  True   \n",
      "\n",
      "         mac  linux           rating  positive_ratio  user_reviews  \\\n",
      "0      False  False    Very Positive             NaN          2199   \n",
      "1      False  False         Positive            85.0            21   \n",
      "2       True   True    Very Positive            92.0          3722   \n",
      "3      False  False            Mixed            61.0           873   \n",
      "4       True  False    Very Positive            88.0          8784   \n",
      "...      ...    ...              ...             ...           ...   \n",
      "50867  False  False    Very Positive            96.0           101   \n",
      "50868  False  False  Mostly Negative            38.0         29458   \n",
      "50869  False  False    Very Positive            89.0          1128   \n",
      "50870  False  False    Very Positive            95.0            82   \n",
      "50871  False  False    Very Positive            88.0           144   \n",
      "\n",
      "       price_final  price_original  discount  steam_deck  \n",
      "0             9.99            9.99         0        True  \n",
      "1             2.99            2.99         0        True  \n",
      "2            14.99           14.99         0        True  \n",
      "3            14.99           14.99         0        True  \n",
      "4            11.99           11.99         0        True  \n",
      "...            ...             ...       ...         ...  \n",
      "50867        22.00            0.00         0        True  \n",
      "50868        40.00            0.00         0        True  \n",
      "50869        30.00            0.00         0        True  \n",
      "50870        17.00            0.00         0        True  \n",
      "50871         4.00            0.00         0        True  \n",
      "\n",
      "[50872 rows x 13 columns]\n",
      "        app_id                                      title\n",
      "0        13500          Prince of Persia: Warrior Within™\n",
      "1        22364                    BRINK: Agents of Change\n",
      "2       113020               Monaco: What's Yours Is Mine\n",
      "3       226560                         Escape Dead Island\n",
      "4       249050                    Dungeon of the ENDLESS™\n",
      "...        ...                                        ...\n",
      "50867  2296380  I Expect You To Die 3: Cog in the Machine\n",
      "50868  1272080                                   PAYDAY 3\n",
      "50869  1402110                                 Eternights\n",
      "50870  2272250                        Forgive Me Father 2\n",
      "50871  2488510                                  FatalZone\n",
      "\n",
      "[50872 rows x 2 columns] \n",
      "          22364                    BRINK: Agents of Change  03/08/2011  TRUE  \\\n",
      "0       113020               Monaco: What's Yours Is Mine  24/04/2013  True   \n",
      "1       226560                         Escape Dead Island  18/11/2014  True   \n",
      "2       249050                    Dungeon of the ENDLESS™  27/10/2014  True   \n",
      "3       250180                               METAL SLUG 3  14/09/2015  True   \n",
      "4       253980                                    Enclave  04/10/2013  True   \n",
      "...        ...                                        ...         ...   ...   \n",
      "50865  2296380  I Expect You To Die 3: Cog in the Machine  28/09/2023  True   \n",
      "50866  1272080                                   PAYDAY 3  21/09/2023  True   \n",
      "50867  1402110                                 Eternights  11/09/2023  True   \n",
      "50868  2272250                        Forgive Me Father 2  19/10/2023  True   \n",
      "50869  2488510                                  FatalZone  23/10/2023  True   \n",
      "\n",
      "       FALSE  FALSE.1         Positive    85     21   2.99  2.99.1  0  TRUE.1  \n",
      "0       True     True    Very Positive  92.0   3722  14.99   14.99  0    True  \n",
      "1      False    False            Mixed  61.0    873  14.99   14.99  0    True  \n",
      "2       True    False    Very Positive  88.0   8784  11.99   11.99  0    True  \n",
      "3      False    False    Very Positive  90.0   5579   7.99    7.99  0    True  \n",
      "4       True     True  Mostly Positive  75.0   1608   4.99    4.99  0    True  \n",
      "...      ...      ...              ...   ...    ...    ...     ... ..     ...  \n",
      "50865  False    False    Very Positive  96.0    101  22.00    0.00  0    True  \n",
      "50866  False    False  Mostly Negative  38.0  29458  40.00    0.00  0    True  \n",
      "50867  False    False    Very Positive  89.0   1128  30.00    0.00  0    True  \n",
      "50868  False    False    Very Positive  95.0     82  17.00    0.00  0    True  \n",
      "50869  False    False    Very Positive  88.0    144   4.00    0.00  0    True  \n",
      "\n",
      "[50870 rows x 13 columns]\n",
      "Column 'positive_ratio' not found in dataframe\n",
      "         22364                    BRINK: Agents of Change  03/08/2011  TRUE  \\\n",
      "0       113020               Monaco: What's Yours Is Mine  24/04/2013  True   \n",
      "1       226560                         Escape Dead Island  18/11/2014  True   \n",
      "2       249050                    Dungeon of the ENDLESS™  27/10/2014  True   \n",
      "3       250180                               METAL SLUG 3  14/09/2015  True   \n",
      "4       253980                                    Enclave  04/10/2013  True   \n",
      "...        ...                                        ...         ...   ...   \n",
      "50865  2296380  I Expect You To Die 3: Cog in the Machine  28/09/2023  True   \n",
      "50866  1272080                                   PAYDAY 3  21/09/2023  True   \n",
      "50867  1402110                                 Eternights  11/09/2023  True   \n",
      "50868  2272250                        Forgive Me Father 2  19/10/2023  True   \n",
      "50869  2488510                                  FatalZone  23/10/2023  True   \n",
      "\n",
      "       FALSE  FALSE.1         Positive    85     21   2.99  2.99.1  0  TRUE.1  \n",
      "0       True     True    Very Positive  92.0   3722  14.99   14.99  0    True  \n",
      "1      False    False            Mixed  61.0    873  14.99   14.99  0    True  \n",
      "2       True    False    Very Positive  88.0   8784  11.99   11.99  0    True  \n",
      "3      False    False    Very Positive  90.0   5579   7.99    7.99  0    True  \n",
      "4       True     True  Mostly Positive  75.0   1608   4.99    4.99  0    True  \n",
      "...      ...      ...              ...   ...    ...    ...     ... ..     ...  \n",
      "50865  False    False    Very Positive  96.0    101  22.00    0.00  0    True  \n",
      "50866  False    False  Mostly Negative  38.0  29458  40.00    0.00  0    True  \n",
      "50867  False    False    Very Positive  89.0   1128  30.00    0.00  0    True  \n",
      "50868  False    False    Very Positive  95.0     82  17.00    0.00  0    True  \n",
      "50869  False    False    Very Positive  88.0    144   4.00    0.00  0    True  \n",
      "\n",
      "[50870 rows x 13 columns]\n"
     ]
    }
   ],
   "source": [
    "if __name__ == \"__main__\":\n",
    "    main()"
   ]
  },
  {
   "cell_type": "code",
   "execution_count": null,
   "id": "29391048-a519-40d6-bcb4-f8b0a83bd380",
   "metadata": {},
   "outputs": [],
   "source": []
  }
 ],
 "metadata": {
  "kernelspec": {
   "display_name": "Python 3 (ipykernel)",
   "language": "python",
   "name": "python3"
  },
  "language_info": {
   "codemirror_mode": {
    "name": "ipython",
    "version": 3
   },
   "file_extension": ".py",
   "mimetype": "text/x-python",
   "name": "python",
   "nbconvert_exporter": "python",
   "pygments_lexer": "ipython3",
   "version": "3.12.0"
  }
 },
 "nbformat": 4,
 "nbformat_minor": 5
}
