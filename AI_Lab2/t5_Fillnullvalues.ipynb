{
 "cells": [
  {
   "cell_type": "code",
   "execution_count": 237,
   "id": "643fedeb-66f8-4f20-90b8-d947a2b900bf",
   "metadata": {},
   "outputs": [],
   "source": [
    "import pandas as pd"
   ]
  },
  {
   "cell_type": "code",
   "execution_count": 238,
   "id": "74d9f8f0-3c3e-491a-b9b5-a38cf51fba6c",
   "metadata": {},
   "outputs": [],
   "source": [
    "import numpy as np"
   ]
  },
  {
   "cell_type": "code",
   "execution_count": 239,
   "id": "f397414f-bcc2-46a8-8b65-6f39f69239dd",
   "metadata": {},
   "outputs": [],
   "source": [
    "def file_path():\n",
    "    path = \"C:/Users/Skull Crusher/Downloads/Employees.xlsx\"\n",
    "    return path"
   ]
  },
  {
   "cell_type": "code",
   "execution_count": 240,
   "id": "06aef7a5-5d78-4d04-8170-5506d08cb03a",
   "metadata": {},
   "outputs": [],
   "source": [
    "def fill_nulls(file_path):\n",
    "    df = pd.read_excel(file_path)\n",
    "    df['Gender'].fillna('No Gender', inplace=True)\n",
    "    return df  "
   ]
  },
  {
   "cell_type": "code",
   "execution_count": 241,
   "id": "94449a64-51ef-468c-b657-fa2cd2e25691",
   "metadata": {},
   "outputs": [],
   "source": [
    "def main():\n",
    "    path = file_path()\n",
    "    updated_data = fill_nulls(path)\n",
    "    print(updated_data.head(30))"
   ]
  },
  {
   "cell_type": "code",
   "execution_count": 242,
   "id": "c9122767-26ae-4f1d-8f86-f321d9912fd8",
   "metadata": {},
   "outputs": [
    {
     "name": "stdout",
     "output_type": "stream",
     "text": [
      "    No First Name    Last Name     Gender Start Date  Years  \\\n",
      "0    1     Ghadir        Hmshw       Male 2018-04-04      6   \n",
      "1    2       Omar       Hishan       Male 2020-05-21      4   \n",
      "2    3      Ailya       Sharaf  No Gender 2017-09-28      7   \n",
      "3    4       Lwiy        Qbany       Male 2018-08-14      6   \n",
      "4    5      Ahmad        Bikri  No Gender 2020-03-11      4   \n",
      "5    6    Muhamad       Zueitr  No Gender 2016-02-02      8   \n",
      "6    7        Iin    Alhalaliu     Female 2020-05-08      4   \n",
      "7    8    Muhamad        Alaya       Male 2018-02-10      6   \n",
      "8    9      Susin      Almilat  No Gender 2018-03-11      6   \n",
      "9   10    Muhamad     Alrifaei       Male 2020-01-03      4   \n",
      "10  11    Muhamad      Alqadah       Male 2018-01-16      6   \n",
      "11  12    Muhamad          Iad  No Gender 2018-07-19      6   \n",
      "12  13     Razaan        Nasif     Female 2018-11-11      5   \n",
      "13  14     Iilian          Dbs     Female 2016-03-01      8   \n",
      "14  15      Bayan          Qdw     Female 2018-12-04      5   \n",
      "15  16       Alaa      Muhamad  No Gender 2019-10-07      5   \n",
      "16  17     Sandra  Aljurmqaniu     Female 2016-05-27      8   \n",
      "17  18    Farahad       Husayn       Male 2018-05-12      6   \n",
      "18  19       Ahed        Salim     Female 2018-04-24      6   \n",
      "19  20      Ayham      Tutwnji       Male 2019-10-02      5   \n",
      "20  21      Samir      Alsafdi       Male 2020-12-03      3   \n",
      "21  22      Bilal        Jalal       Male 2019-01-08      5   \n",
      "22  23       Riad      Sahalul       Male 2019-11-14      4   \n",
      "23  24      Ahmad        Ahmad       Male 2019-10-17      5   \n",
      "24  25    Muhamad      Altarah       Male 2020-12-13      3   \n",
      "25  26       Lwna          Abu     Female 2020-08-02      4   \n",
      "26  27      Jalal     Almuluhi       Male 2018-12-03      5   \n",
      "27  28       Rana         Mius     Female 2019-03-06      5   \n",
      "28  29       Lina     Aljabaan     Female 2019-12-16      4   \n",
      "29  30       Rami       Shanan       Male 2019-08-13      5   \n",
      "\n",
      "                     Department               Country Center  Monthly Salary  \\\n",
      "0               Quality Control                 Egypt   West            1560   \n",
      "1               Quality Control          Saudi Arabia   West            3247   \n",
      "2            Major Mfg Projects          Saudi Arabia   West            2506   \n",
      "3                 Manufacturing  United Arab Emirates   Main            1828   \n",
      "4                 Manufacturing                 Egypt   Main             970   \n",
      "5           Product Development          Saudi Arabia  North            2332   \n",
      "6                         Sales  United Arab Emirates   Main            1959   \n",
      "7            Account Management                 Egypt   Main            3394   \n",
      "8                Green Building                 Egypt  North            1479   \n",
      "9            Account Management                 Egypt   Main            1186   \n",
      "10                Manufacturing                 Syria   Main            1485   \n",
      "11                           IT                 Egypt   Main            2016   \n",
      "12       Facilities/Engineering                 Egypt   Main            1999   \n",
      "13       Facilities/Engineering  United Arab Emirates  North            3404   \n",
      "14                    Marketing                 Egypt   Main             889   \n",
      "15                        Sales                 Egypt  South             930   \n",
      "16           Account Management          Saudi Arabia   West            3149   \n",
      "17              Quality Control  United Arab Emirates   West            1295   \n",
      "18              Quality Control  United Arab Emirates  South            2162   \n",
      "19          Product Development  United Arab Emirates   West            2180   \n",
      "20           Account Management                 Egypt   Main            1475   \n",
      "21          Manufacturing Admin                 Egypt   Main            1290   \n",
      "22                     Training          Saudi Arabia   Main            1764   \n",
      "23            Quality Assurance          Saudi Arabia   West            2682   \n",
      "24                           IT                 Egypt  North            3044   \n",
      "25          Product Development                 Egypt   Main             890   \n",
      "26              Quality Control                 Egypt   West            2207   \n",
      "27                Manufacturing          Saudi Arabia   West            2136   \n",
      "28              Quality Control                 Egypt   Main            1161   \n",
      "29  Professional Training Group  United Arab Emirates   West             830   \n",
      "\n",
      "    Annual Salary  Job Rate  Sick Leaves  Unpaid Leaves  Overtime Hours  \n",
      "0           18720       3.0            1              0             183  \n",
      "1           38964       1.0            0              5             198  \n",
      "2           30072       2.0            0              3             192  \n",
      "3           21936       3.0            0              0               7  \n",
      "4           11640       5.0            0              5             121  \n",
      "5           27984       3.0            3              0               8  \n",
      "6           23508       3.0            6              0             116  \n",
      "7           40728       5.0            0              0               7  \n",
      "8           17748       4.5            0              0             105  \n",
      "9           14232       4.5            1              0             153  \n",
      "10          17820       2.0            5              0              12  \n",
      "11          24192       1.0            2              0              70  \n",
      "12          23988       5.0            6              0              85  \n",
      "13          40848       5.0            1              0               8  \n",
      "14          10668       3.0            1              1               8  \n",
      "15          11160       3.0            0              0              77  \n",
      "16          37788       4.5            0              0              93  \n",
      "17          15540       3.0            4              0             153  \n",
      "18          25944       3.0            0              0               8  \n",
      "19          26160       2.0            6              0              10  \n",
      "20          17700       5.0            0              0              98  \n",
      "21          15480       3.0            4              0             109  \n",
      "22          21168       3.0            0              0             111  \n",
      "23          32184       4.5            1              0              32  \n",
      "24          36528       3.0            6              0              94  \n",
      "25          10680       4.5            0              0              13  \n",
      "26          26484       5.0            0              0              70  \n",
      "27          25632       4.5            1              0               9  \n",
      "28          13932       5.0            0              1              97  \n",
      "29           9960       5.0            0              0              71  \n"
     ]
    },
    {
     "name": "stderr",
     "output_type": "stream",
     "text": [
      "C:\\Users\\Skull Crusher\\AppData\\Local\\Temp\\ipykernel_8864\\3399202779.py:3: FutureWarning: A value is trying to be set on a copy of a DataFrame or Series through chained assignment using an inplace method.\n",
      "The behavior will change in pandas 3.0. This inplace method will never work because the intermediate object on which we are setting values always behaves as a copy.\n",
      "\n",
      "For example, when doing 'df[col].method(value, inplace=True)', try using 'df.method({col: value}, inplace=True)' or df[col] = df[col].method(value) instead, to perform the operation inplace on the original object.\n",
      "\n",
      "\n",
      "  df['Gender'].fillna('No Gender', inplace=True)\n"
     ]
    }
   ],
   "source": [
    "if __name__ == \"__main__\":\n",
    "    main()"
   ]
  },
  {
   "cell_type": "code",
   "execution_count": null,
   "id": "9f10d6c3-ea7c-4f42-85f3-8c6bce9efe50",
   "metadata": {},
   "outputs": [],
   "source": []
  },
  {
   "cell_type": "code",
   "execution_count": null,
   "id": "993021d6-8026-460a-81bd-0cb6adbee72c",
   "metadata": {},
   "outputs": [],
   "source": []
  }
 ],
 "metadata": {
  "kernelspec": {
   "display_name": "Python 3 (ipykernel)",
   "language": "python",
   "name": "python3"
  },
  "language_info": {
   "codemirror_mode": {
    "name": "ipython",
    "version": 3
   },
   "file_extension": ".py",
   "mimetype": "text/x-python",
   "name": "python",
   "nbconvert_exporter": "python",
   "pygments_lexer": "ipython3",
   "version": "3.12.0"
  }
 },
 "nbformat": 4,
 "nbformat_minor": 5
}
